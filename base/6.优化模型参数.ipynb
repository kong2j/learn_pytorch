{
 "cells": [
  {
   "metadata": {},
   "cell_type": "markdown",
   "source": [
    "# 一、优化模型参数\n",
    "- 现在我们有了模型和数据，是时候通过优化数据上的参数来训练、验证和测试我们的模型了。\n",
    "- 训练模型是一个迭代过程；在每次迭代中，模型都会对输出进行猜测，计算其猜测的误差（损失），收集误差相对于其参数的导数（如我们在上一节中看到的），并使用梯度下降优化这些参数。\n",
    "- 有关此过程的更详细演练，请观看 3Blue1Brown 的有关反向传播的视频。"
   ],
   "id": "9e71d8fe5d9017fa"
  },
  {
   "metadata": {},
   "cell_type": "markdown",
   "source": [
    "## 1、准备工作\n",
    "- 我们加载前面有关数据集和数据加载器以及构建模型部分的代码。"
   ],
   "id": "8c90b617508c2650"
  },
  {
   "metadata": {
    "ExecuteTime": {
     "end_time": "2024-07-16T01:59:15.828512Z",
     "start_time": "2024-07-16T01:59:11.627307Z"
    }
   },
   "cell_type": "code",
   "source": [
    "import torch\n",
    "from torch import nn\n",
    "from torch.utils.data import DataLoader\n",
    "from torchvision import datasets\n",
    "from torchvision.transforms import ToTensor\n",
    "\n",
    "training_data = datasets.FashionMNIST(\n",
    "    root=\"data\",\n",
    "    train=True,\n",
    "    download=True,\n",
    "    transform=ToTensor()\n",
    ")\n",
    "\n",
    "test_data = datasets.FashionMNIST(\n",
    "    root=\"data\",\n",
    "    train=False,\n",
    "    download=True,\n",
    "    transform=ToTensor()\n",
    ")\n",
    "\n",
    "train_dataloader = DataLoader(training_data, batch_size=64)\n",
    "test_dataloader = DataLoader(test_data, batch_size=64)\n",
    "\n",
    "\n",
    "class NeuralNetwork(nn.Module):\n",
    "    def __init__(self):\n",
    "        super().__init__()\n",
    "        self.flatten = nn.Flatten()\n",
    "        self.linear_relu_stack = nn.Sequential(\n",
    "            nn.Linear(28 * 28, 512),\n",
    "            nn.ReLU(),\n",
    "            nn.Linear(512, 512),\n",
    "            nn.ReLU(),\n",
    "            nn.Linear(512, 10),\n",
    "        )\n",
    "\n",
    "    def forward(self, x):\n",
    "        x = self.flatten(x)\n",
    "        logits = self.linear_relu_stack(x)\n",
    "        return logits\n",
    "\n",
    "\n",
    "model = NeuralNetwork()"
   ],
   "id": "e92b55db1c29b442",
   "outputs": [],
   "execution_count": 1
  },
  {
   "metadata": {},
   "cell_type": "markdown",
   "source": [
    "## 2、超参数\n",
    "- 超参数是可调整的参数，可让您控制模型优化过程。\n",
    "- 不同的超参数值会影响模型训练和收敛速度（阅读有关超参数调整的更多信息）\n",
    "- Number of Epochs - 迭代数据集的次数\n",
    "- Batch Size - 参数更新之前通过网络传播的数据样本数量\n",
    "- 学习率 - 每个批次/时期更新模型参数的量。较小的值会导致学习速度较慢，而较大的值可能会导致训练期间出现不可预测的行为。"
   ],
   "id": "305f1daf122352c3"
  },
  {
   "metadata": {
    "ExecuteTime": {
     "end_time": "2024-07-16T02:00:50.727155Z",
     "start_time": "2024-07-16T02:00:50.712112Z"
    }
   },
   "cell_type": "code",
   "source": [
    "learning_rate = 1e-3\n",
    "batch_size = 64\n",
    "epochs = 5"
   ],
   "id": "241fe25cec454b98",
   "outputs": [],
   "execution_count": 2
  },
  {
   "metadata": {},
   "cell_type": "markdown",
   "source": [
    "## 3、优化循环\n",
    "- 一旦我们设置了超参数，我们就可以使用优化循环来训练和优化我们的模型。优化循环的每次迭代称为一个epoch。\n",
    "- 每个epoch由两个主要部分组成：\n",
    "- 训练循环 - 迭代训练数据集并尝试收敛到最佳参数。\n",
    "- 验证/测试循环 - 迭代测试数据集以检查模型性能是否有所改善。\n",
    "- 让我们简单熟悉一下训练循环中使用的一些概念。向前跳转查看优化循环的完整实现。\n",
    "- 损失函数：当提供一些训练数据时，我们未经训练的网络可能不会给出正确的答案。\n",
    "- 损失函数衡量的是得到的结果与目标值的不相似程度，它是我们在训练时想要最小化的损失函数。\n",
    "- 为了计算损失，我们使用给定数据样本的输入进行预测，并将其与真实数据标签值进行比较。\n",
    "- 常见的损失函数包括用于回归任务的 nn.MSELoss（均方误差）和用于分类的 nn.NLLLoss（负对数似然）。\n",
    "- nn.CrossEntropyLoss 结合了 nn.LogSoftmax 和 nn.NLLLoss。\n",
    "- 我们将模型的输出 logits 传递给 nn.CrossEntropyLoss，这将标准化 logits 并计算预测误差。"
   ],
   "id": "4218dc8e6c629051"
  },
  {
   "metadata": {
    "ExecuteTime": {
     "end_time": "2024-07-16T02:06:37.627363Z",
     "start_time": "2024-07-16T02:06:37.617628Z"
    }
   },
   "cell_type": "code",
   "source": [
    "# Initialize the loss function\n",
    "loss_fn = nn.CrossEntropyLoss()"
   ],
   "id": "1cee3327de533f5b",
   "outputs": [],
   "execution_count": 3
  },
  {
   "metadata": {},
   "cell_type": "markdown",
   "source": [
    "## 4、优化器\n",
    "- 优化是调整模型参数以减少每个训练步骤中模型误差的过程。\n",
    "- 优化算法定义了如何执行此过程（在本例中我们使用随机梯度下降）。\n",
    "- 所有优化逻辑都封装在优化器对象中。\n",
    "- 这里，我们使用SGD优化器；此外，PyTorch 中还有许多不同的优化器，例如 ADAM 和 RMSProp，它们可以更好地处理不同类型的模型和数据。\n",
    "- 我们通过注册需要训练的模型参数并传入学习率超参数来初始化优化器。"
   ],
   "id": "49c4abfc1a6f7a55"
  },
  {
   "metadata": {
    "ExecuteTime": {
     "end_time": "2024-07-16T02:08:02.506406Z",
     "start_time": "2024-07-16T02:08:02.491533Z"
    }
   },
   "cell_type": "code",
   "source": "optimizer = torch.optim.SGD(model.parameters(), lr=learning_rate)",
   "id": "63b3beecbd8dc214",
   "outputs": [],
   "execution_count": 4
  },
  {
   "metadata": {},
   "cell_type": "code",
   "outputs": [],
   "execution_count": null,
   "source": [
    "# 在训练循环中，优化分三个步骤进行：\n",
    "# 调用optimizer.zero_grad()重置模型参数的梯度。默认情况下渐变相加；为了防止重复计算，我们在每次迭代时明确地将它们归零。\n",
    "# 通过调用 loss.backward() 反向传播预测损失。 PyTorch 存储损失的梯度。每个参数。\n",
    "# 一旦我们得到了梯度，我们就调用optimizer.step()来通过向后传递中收集的梯度来调整参数。"
   ],
   "id": "b091bf9e3b39855a"
  },
  {
   "metadata": {
    "ExecuteTime": {
     "end_time": "2024-07-16T02:09:37.033699Z",
     "start_time": "2024-07-16T02:09:37.010638Z"
    }
   },
   "cell_type": "code",
   "source": [
    "def train_loop(dataloader, model, loss_fn, optimizer):\n",
    "    size = len(dataloader.dataset)\n",
    "    # Set the model to training mode - important for batch normalization and dropout layers\n",
    "    # Unnecessary in this situation but added for best practices\n",
    "    # 获取模型\n",
    "    model.train()\n",
    "    # 加载数据 batch 批次数据 X：输入数据, y：真实输出数据\n",
    "    for batch, (X, y) in enumerate(dataloader):\n",
    "        # Compute prediction and loss\n",
    "        pred = model(X)\n",
    "        loss = loss_fn(pred, y)\n",
    "\n",
    "        # Backpropagation\n",
    "        loss.backward()\n",
    "        # optimizer.step()则利用这些计算出的梯度，根据所选择的优化算法（如SGD，Adam等）和设定的学习率，来更新模型的参数，从而最小化损失函数。\n",
    "        optimizer.step()\n",
    "        # 清空（或重置）优化器中累积的梯度\n",
    "        optimizer.zero_grad()\n",
    "\n",
    "        if batch % 100 == 0:\n",
    "            loss, current = loss.item(), batch * batch_size + len(X)\n",
    "            print(f\"loss: {loss:>7f}  [{current:>5d}/{size:>5d}]\")\n",
    "\n",
    "\n",
    "def test_loop(dataloader, model, loss_fn):\n",
    "    # Set the model to evaluation mode - important for batch normalization and dropout layers\n",
    "    # Unnecessary in this situation but added for best practices\n",
    "    # 模型设置为评估（evaluation）模式\n",
    "    model.eval()\n",
    "    size = len(dataloader.dataset)\n",
    "    num_batches = len(dataloader)\n",
    "    test_loss, correct = 0, 0\n",
    "\n",
    "    # Evaluating the model with torch.no_grad() ensures that no gradients are computed during test mode\n",
    "    # also serves to reduce unnecessary gradient computations and memory usage for tensors with requires_grad=True\n",
    "    # 不用反向传播计算梯度\n",
    "    with torch.no_grad():\n",
    "        for X, y in dataloader:\n",
    "            pred = model(X)\n",
    "            test_loss += loss_fn(pred, y).item()\n",
    "            correct += (pred.argmax(1) == y).type(torch.float).sum().item()\n",
    "\n",
    "    test_loss /= num_batches\n",
    "    # 计算准确度\n",
    "    correct /= size\n",
    "    print(f\"Test Error: \\n Accuracy: {(100 * correct):>0.1f}%, Avg loss: {test_loss:>8f} \\n\")"
   ],
   "id": "e78781120d3f482a",
   "outputs": [],
   "execution_count": 6
  },
  {
   "metadata": {
    "ExecuteTime": {
     "end_time": "2024-07-16T02:30:09.199838Z",
     "start_time": "2024-07-16T02:27:57.036374Z"
    }
   },
   "cell_type": "code",
   "source": [
    "loss_fn = nn.CrossEntropyLoss()\n",
    "optimizer = torch.optim.SGD(model.parameters(), lr=learning_rate)\n",
    "\n",
    "epochs = 10\n",
    "for t in range(epochs):\n",
    "    print(f\"Epoch {t+1}\\n-------------------------------\")\n",
    "    train_loop(train_dataloader, model, loss_fn, optimizer)\n",
    "    test_loop(test_dataloader, model, loss_fn)\n",
    "print(\"Done!\")"
   ],
   "id": "2bbd05a8271f712a",
   "outputs": [
    {
     "name": "stdout",
     "output_type": "stream",
     "text": [
      "Epoch 1\n",
      "-------------------------------\n",
      "loss: 2.315257  [   64/60000]\n",
      "loss: 2.293368  [ 6464/60000]\n",
      "loss: 2.278170  [12864/60000]\n",
      "loss: 2.262481  [19264/60000]\n",
      "loss: 2.244125  [25664/60000]\n",
      "loss: 2.221610  [32064/60000]\n",
      "loss: 2.223866  [38464/60000]\n",
      "loss: 2.186689  [44864/60000]\n",
      "loss: 2.194059  [51264/60000]\n",
      "loss: 2.149075  [57664/60000]\n",
      "Test Error: \n",
      " Accuracy: 40.6%, Avg loss: 2.151281 \n",
      "\n",
      "Epoch 2\n",
      "-------------------------------\n",
      "loss: 2.173686  [   64/60000]\n",
      "loss: 2.148438  [ 6464/60000]\n",
      "loss: 2.096913  [12864/60000]\n",
      "loss: 2.104583  [19264/60000]\n",
      "loss: 2.054512  [25664/60000]\n",
      "loss: 2.004362  [32064/60000]\n",
      "loss: 2.023711  [38464/60000]\n",
      "loss: 1.937719  [44864/60000]\n",
      "loss: 1.950864  [51264/60000]\n",
      "loss: 1.870941  [57664/60000]\n",
      "Test Error: \n",
      " Accuracy: 56.5%, Avg loss: 1.879006 \n",
      "\n",
      "Epoch 3\n",
      "-------------------------------\n",
      "loss: 1.921463  [   64/60000]\n",
      "loss: 1.872409  [ 6464/60000]\n",
      "loss: 1.769786  [12864/60000]\n",
      "loss: 1.798491  [19264/60000]\n",
      "loss: 1.689537  [25664/60000]\n",
      "loss: 1.660327  [32064/60000]\n",
      "loss: 1.667110  [38464/60000]\n",
      "loss: 1.564553  [44864/60000]\n",
      "loss: 1.595165  [51264/60000]\n",
      "loss: 1.490059  [57664/60000]\n",
      "Test Error: \n",
      " Accuracy: 61.3%, Avg loss: 1.520029 \n",
      "\n",
      "Epoch 4\n",
      "-------------------------------\n",
      "loss: 1.592921  [   64/60000]\n",
      "loss: 1.540780  [ 6464/60000]\n",
      "loss: 1.410149  [12864/60000]\n",
      "loss: 1.466230  [19264/60000]\n",
      "loss: 1.351479  [25664/60000]\n",
      "loss: 1.370791  [32064/60000]\n",
      "loss: 1.367191  [38464/60000]\n",
      "loss: 1.289432  [44864/60000]\n",
      "loss: 1.327654  [51264/60000]\n",
      "loss: 1.230693  [57664/60000]\n",
      "Test Error: \n",
      " Accuracy: 63.5%, Avg loss: 1.264178 \n",
      "\n",
      "Epoch 5\n",
      "-------------------------------\n",
      "loss: 1.347892  [   64/60000]\n",
      "loss: 1.309205  [ 6464/60000]\n",
      "loss: 1.162467  [12864/60000]\n",
      "loss: 1.248860  [19264/60000]\n",
      "loss: 1.128248  [25664/60000]\n",
      "loss: 1.177525  [32064/60000]\n",
      "loss: 1.179019  [38464/60000]\n",
      "loss: 1.113862  [44864/60000]\n",
      "loss: 1.156494  [51264/60000]\n",
      "loss: 1.072760  [57664/60000]\n",
      "Test Error: \n",
      " Accuracy: 64.8%, Avg loss: 1.099866 \n",
      "\n",
      "Epoch 6\n",
      "-------------------------------\n",
      "loss: 1.179046  [   64/60000]\n",
      "loss: 1.157517  [ 6464/60000]\n",
      "loss: 0.995902  [12864/60000]\n",
      "loss: 1.108237  [19264/60000]\n",
      "loss: 0.987012  [25664/60000]\n",
      "loss: 1.042920  [32064/60000]\n",
      "loss: 1.058896  [38464/60000]\n",
      "loss: 0.997936  [44864/60000]\n",
      "loss: 1.040259  [51264/60000]\n",
      "loss: 0.970739  [57664/60000]\n",
      "Test Error: \n",
      " Accuracy: 66.1%, Avg loss: 0.990609 \n",
      "\n",
      "Epoch 7\n",
      "-------------------------------\n",
      "loss: 1.056335  [   64/60000]\n",
      "loss: 1.055787  [ 6464/60000]\n",
      "loss: 0.879308  [12864/60000]\n",
      "loss: 1.012946  [19264/60000]\n",
      "loss: 0.895916  [25664/60000]\n",
      "loss: 0.945944  [32064/60000]\n",
      "loss: 0.977875  [38464/60000]\n",
      "loss: 0.920442  [44864/60000]\n",
      "loss: 0.957502  [51264/60000]\n",
      "loss: 0.900485  [57664/60000]\n",
      "Test Error: \n",
      " Accuracy: 67.4%, Avg loss: 0.914382 \n",
      "\n",
      "Epoch 8\n",
      "-------------------------------\n",
      "loss: 0.963242  [   64/60000]\n",
      "loss: 0.983573  [ 6464/60000]\n",
      "loss: 0.794618  [12864/60000]\n",
      "loss: 0.945028  [19264/60000]\n",
      "loss: 0.834168  [25664/60000]\n",
      "loss: 0.873809  [32064/60000]\n",
      "loss: 0.919570  [38464/60000]\n",
      "loss: 0.867642  [44864/60000]\n",
      "loss: 0.896446  [51264/60000]\n",
      "loss: 0.848896  [57664/60000]\n",
      "Test Error: \n",
      " Accuracy: 69.0%, Avg loss: 0.858776 \n",
      "\n",
      "Epoch 9\n",
      "-------------------------------\n",
      "loss: 0.891116  [   64/60000]\n",
      "loss: 0.929386  [ 6464/60000]\n",
      "loss: 0.730502  [12864/60000]\n",
      "loss: 0.894642  [19264/60000]\n",
      "loss: 0.789743  [25664/60000]\n",
      "loss: 0.818718  [32064/60000]\n",
      "loss: 0.875284  [38464/60000]\n",
      "loss: 0.830228  [44864/60000]\n",
      "loss: 0.850061  [51264/60000]\n",
      "loss: 0.809140  [57664/60000]\n",
      "Test Error: \n",
      " Accuracy: 70.4%, Avg loss: 0.816217 \n",
      "\n",
      "Epoch 10\n",
      "-------------------------------\n",
      "loss: 0.833241  [   64/60000]\n",
      "loss: 0.886376  [ 6464/60000]\n",
      "loss: 0.680017  [12864/60000]\n",
      "loss: 0.856035  [19264/60000]\n",
      "loss: 0.755660  [25664/60000]\n",
      "loss: 0.775783  [32064/60000]\n",
      "loss: 0.839625  [38464/60000]\n",
      "loss: 0.802526  [44864/60000]\n",
      "loss: 0.813524  [51264/60000]\n",
      "loss: 0.777173  [57664/60000]\n",
      "Test Error: \n",
      " Accuracy: 71.6%, Avg loss: 0.782389 \n",
      "\n",
      "Done!\n"
     ]
    }
   ],
   "execution_count": 7
  },
  {
   "metadata": {},
   "cell_type": "code",
   "outputs": [],
   "execution_count": null,
   "source": "",
   "id": "a88a77c37233797"
  },
  {
   "metadata": {},
   "cell_type": "code",
   "outputs": [],
   "execution_count": null,
   "source": "",
   "id": "5c1010d2f908033f"
  }
 ],
 "metadata": {
  "kernelspec": {
   "display_name": "Python 3",
   "language": "python",
   "name": "python3"
  },
  "language_info": {
   "codemirror_mode": {
    "name": "ipython",
    "version": 2
   },
   "file_extension": ".py",
   "mimetype": "text/x-python",
   "name": "python",
   "nbconvert_exporter": "python",
   "pygments_lexer": "ipython2",
   "version": "2.7.6"
  }
 },
 "nbformat": 4,
 "nbformat_minor": 5
}
