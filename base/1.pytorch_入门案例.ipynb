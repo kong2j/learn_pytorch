{
 "cells": [
  {
   "metadata": {},
   "cell_type": "markdown",
   "source": [
    "一、PyTorch基础\n",
    "- 熟悉 PyTorch 概念和模块。在本快速入门指南中了解如何加载数据、构建深度神经网络、训练和保存模型。\n",
    "- 开始使用 PyTorch\n",
    "- 大多数机器学习工作流程涉及处理数据、创建模型、优化模型参数以及保存经过训练的模型。\n",
    "- 本教程向您介绍在 PyTorch 中实现的完整 ML 工作流程，并提供链接以了解有关每个概念的更多信息。\n",
    "- 我们将使用 FashionMNIST 数据集来训练神经网络，预测输入图像是否属于以下类别之一：T 恤/上衣、裤子、套头衫、连衣裙、外套、凉鞋、衬衫、运动鞋、包或脚踝启动。"
   ],
   "id": "3ac11518ed1aaa7b"
  },
  {
   "metadata": {},
   "cell_type": "markdown",
   "source": "## 1、加载数据集",
   "id": "e56ea85b2dad24fa"
  },
  {
   "metadata": {
    "ExecuteTime": {
     "end_time": "2024-07-15T07:13:05.888230Z",
     "start_time": "2024-07-15T07:12:59.591537Z"
    }
   },
   "cell_type": "code",
   "source": [
    "# PyTorch 有两个处理数据的原语：torch.utils.data.DataLoader 和 torch.utils.data.Dataset。\n",
    "# Dataset 存储样本及其相应的标签，DataLoader 围绕 Dataset 包装一个可迭代对象。\n",
    "import torch\n",
    "from torch import nn\n",
    "from torch.utils.data import DataLoader\n",
    "# 计算机视觉数据\n",
    "from torchvision import datasets\n",
    "from torchvision.transforms import ToTensor"
   ],
   "id": "2c1ca22fe5badae5",
   "outputs": [],
   "execution_count": 1
  },
  {
   "metadata": {
    "ExecuteTime": {
     "end_time": "2024-07-15T07:16:10.110272Z",
     "start_time": "2024-07-15T07:14:24.044159Z"
    }
   },
   "cell_type": "code",
   "source": [
    "# Download training data from open datasets.\n",
    "training_data = datasets.FashionMNIST(\n",
    "    root=\"data\",\n",
    "    train=True,\n",
    "    download=True,\n",
    "    transform=ToTensor(),\n",
    ")\n",
    "\n",
    "# Download test data from open datasets.\n",
    "test_data = datasets.FashionMNIST(\n",
    "    root=\"data\",\n",
    "    train=False,\n",
    "    download=True,\n",
    "    transform=ToTensor(),\n",
    ")"
   ],
   "id": "62160c067ad0c25b",
   "outputs": [
    {
     "name": "stdout",
     "output_type": "stream",
     "text": [
      "Downloading http://fashion-mnist.s3-website.eu-central-1.amazonaws.com/train-images-idx3-ubyte.gz\n",
      "Downloading http://fashion-mnist.s3-website.eu-central-1.amazonaws.com/train-images-idx3-ubyte.gz to data\\FashionMNIST\\raw\\train-images-idx3-ubyte.gz\n"
     ]
    },
    {
     "name": "stderr",
     "output_type": "stream",
     "text": [
      "100%|██████████| 26421880/26421880 [01:25<00:00, 309448.69it/s] \n"
     ]
    },
    {
     "name": "stdout",
     "output_type": "stream",
     "text": [
      "Extracting data\\FashionMNIST\\raw\\train-images-idx3-ubyte.gz to data\\FashionMNIST\\raw\n",
      "\n",
      "Downloading http://fashion-mnist.s3-website.eu-central-1.amazonaws.com/train-labels-idx1-ubyte.gz\n",
      "Downloading http://fashion-mnist.s3-website.eu-central-1.amazonaws.com/train-labels-idx1-ubyte.gz to data\\FashionMNIST\\raw\\train-labels-idx1-ubyte.gz\n"
     ]
    },
    {
     "name": "stderr",
     "output_type": "stream",
     "text": [
      "100%|██████████| 29515/29515 [00:00<00:00, 31753.52it/s]\n"
     ]
    },
    {
     "name": "stdout",
     "output_type": "stream",
     "text": [
      "Extracting data\\FashionMNIST\\raw\\train-labels-idx1-ubyte.gz to data\\FashionMNIST\\raw\n",
      "\n",
      "Downloading http://fashion-mnist.s3-website.eu-central-1.amazonaws.com/t10k-images-idx3-ubyte.gz\n",
      "Downloading http://fashion-mnist.s3-website.eu-central-1.amazonaws.com/t10k-images-idx3-ubyte.gz to data\\FashionMNIST\\raw\\t10k-images-idx3-ubyte.gz\n"
     ]
    },
    {
     "name": "stderr",
     "output_type": "stream",
     "text": [
      "100%|██████████| 4422102/4422102 [00:11<00:00, 370190.02it/s]\n"
     ]
    },
    {
     "name": "stdout",
     "output_type": "stream",
     "text": [
      "Extracting data\\FashionMNIST\\raw\\t10k-images-idx3-ubyte.gz to data\\FashionMNIST\\raw\n",
      "\n",
      "Downloading http://fashion-mnist.s3-website.eu-central-1.amazonaws.com/t10k-labels-idx1-ubyte.gz\n",
      "Downloading http://fashion-mnist.s3-website.eu-central-1.amazonaws.com/t10k-labels-idx1-ubyte.gz to data\\FashionMNIST\\raw\\t10k-labels-idx1-ubyte.gz\n"
     ]
    },
    {
     "name": "stderr",
     "output_type": "stream",
     "text": [
      "100%|██████████| 5148/5148 [00:00<00:00, 8453.00it/s]"
     ]
    },
    {
     "name": "stdout",
     "output_type": "stream",
     "text": [
      "Extracting data\\FashionMNIST\\raw\\t10k-labels-idx1-ubyte.gz to data\\FashionMNIST\\raw\n",
      "\n"
     ]
    },
    {
     "name": "stderr",
     "output_type": "stream",
     "text": [
      "\n"
     ]
    }
   ],
   "execution_count": 2
  },
  {
   "metadata": {
    "ExecuteTime": {
     "end_time": "2024-07-15T07:18:12.463500Z",
     "start_time": "2024-07-15T07:18:12.399230Z"
    }
   },
   "cell_type": "code",
   "source": [
    "# 我们将数据集作为参数传递给 DataLoader。\n",
    "# 这在我们的数据集上包装了一个可迭代对象，并支持自动批处理、采样、洗牌和多进程数据加载。\n",
    "# 这里我们定义批量大小为 64，即数据加载器迭代中的每个元素将返回一批 64 个特征和标签。\n",
    "batch_size = 64\n",
    "\n",
    "# Create data loaders.\n",
    "train_dataloader = DataLoader(training_data, batch_size=batch_size)\n",
    "test_dataloader = DataLoader(test_data, batch_size=batch_size)\n",
    "\n",
    "for X, y in test_dataloader:\n",
    "    print(f\"Shape of X [N, C, H, W]: {X.shape}\")\n",
    "    print(f\"Shape of y: {y.shape} {y.dtype}\")\n",
    "    break"
   ],
   "id": "11b1c7b648a4b343",
   "outputs": [
    {
     "name": "stdout",
     "output_type": "stream",
     "text": [
      "Shape of X [N, C, H, W]: torch.Size([64, 1, 28, 28])\n",
      "Shape of y: torch.Size([64]) torch.int64\n"
     ]
    }
   ],
   "execution_count": 3
  },
  {
   "metadata": {},
   "cell_type": "markdown",
   "source": [
    "## 2、创建模型\n",
    "- 为了在 PyTorch 中定义神经网络，我们创建一个继承自 nn.Module 的类。\n",
    "- 我们在 __init__ 函数中定义网络层，并在前向函数中指定数据如何通过网络。\n",
    "- 为了加速神经网络中的操作，我们将其转移到 GPU 或 MPS（如果可用）。"
   ],
   "id": "e67023cf8fabc357"
  },
  {
   "metadata": {
    "ExecuteTime": {
     "end_time": "2024-07-15T07:20:39.078250Z",
     "start_time": "2024-07-15T07:20:37.945223Z"
    }
   },
   "cell_type": "code",
   "source": [
    "# Get cpu, gpu or mps device for training.\n",
    "device = (\n",
    "    \"cuda\"\n",
    "    if torch.cuda.is_available()\n",
    "    else \"mps\"\n",
    "    if torch.backends.mps.is_available()\n",
    "    else \"cpu\"\n",
    ")\n",
    "print(f\"Using {device} device\")\n",
    "\n",
    "\n",
    "# Define model\n",
    "class NeuralNetwork(nn.Module):\n",
    "    def __init__(self):\n",
    "        super().__init__()\n",
    "        self.flatten = nn.Flatten()\n",
    "        self.linear_relu_stack = nn.Sequential(\n",
    "            nn.Linear(28 * 28, 512),\n",
    "            nn.ReLU(),\n",
    "            nn.Linear(512, 512),\n",
    "            nn.ReLU(),\n",
    "            nn.Linear(512, 10)\n",
    "        )\n",
    "\n",
    "    def forward(self, x):\n",
    "        x = self.flatten(x)\n",
    "        logits = self.linear_relu_stack(x)\n",
    "        return logits\n",
    "\n",
    "\n",
    "model = NeuralNetwork().to(device)\n",
    "print(model)"
   ],
   "id": "74ba2d410bcd7990",
   "outputs": [
    {
     "name": "stdout",
     "output_type": "stream",
     "text": [
      "Using cuda device\n",
      "NeuralNetwork(\n",
      "  (flatten): Flatten(start_dim=1, end_dim=-1)\n",
      "  (linear_relu_stack): Sequential(\n",
      "    (0): Linear(in_features=784, out_features=512, bias=True)\n",
      "    (1): ReLU()\n",
      "    (2): Linear(in_features=512, out_features=512, bias=True)\n",
      "    (3): ReLU()\n",
      "    (4): Linear(in_features=512, out_features=10, bias=True)\n",
      "  )\n",
      ")\n"
     ]
    }
   ],
   "execution_count": 4
  },
  {
   "metadata": {},
   "cell_type": "markdown",
   "source": [
    "## 3、优化模型参数\n",
    "- 为了训练模型，我们需要损失函数和优化器。"
   ],
   "id": "cf323c355512bc2b"
  },
  {
   "metadata": {
    "ExecuteTime": {
     "end_time": "2024-07-15T07:21:41.791553Z",
     "start_time": "2024-07-15T07:21:41.781629Z"
    }
   },
   "cell_type": "code",
   "source": [
    "loss_fn = nn.CrossEntropyLoss()\n",
    "optimizer = torch.optim.SGD(model.parameters(), lr=1e-3)"
   ],
   "id": "2781a876e5ec5ffa",
   "outputs": [],
   "execution_count": 5
  },
  {
   "metadata": {
    "ExecuteTime": {
     "end_time": "2024-07-15T07:22:50.818753Z",
     "start_time": "2024-07-15T07:22:50.802709Z"
    }
   },
   "cell_type": "code",
   "source": [
    "# 在单个训练循环中，模型对训练数据集（批量输入）进行预测，并反向传播预测误差以调整模型的参数。\n",
    "def train(dataloader, model, loss_fn, optimizer):\n",
    "    size = len(dataloader.dataset)\n",
    "    model.train()\n",
    "    for batch, (X, y) in enumerate(dataloader):\n",
    "        X, y = X.to(device), y.to(device)\n",
    "\n",
    "        # Compute prediction error\n",
    "        pred = model(X)\n",
    "        loss = loss_fn(pred, y)\n",
    "\n",
    "        # Backpropagation\n",
    "        loss.backward()\n",
    "        optimizer.step()\n",
    "        optimizer.zero_grad()\n",
    "\n",
    "        if batch % 100 == 0:\n",
    "            loss, current = loss.item(), (batch + 1) * len(X)\n",
    "            print(f\"loss: {loss:>7f}  [{current:>5d}/{size:>5d}]\")"
   ],
   "id": "3fa194315f6a3ef8",
   "outputs": [],
   "execution_count": 6
  },
  {
   "metadata": {
    "ExecuteTime": {
     "end_time": "2024-07-15T07:23:24.819183Z",
     "start_time": "2024-07-15T07:23:24.800733Z"
    }
   },
   "cell_type": "code",
   "source": [
    "# 我们还根据测试数据集检查模型的性能，以确保它正在学习。\n",
    "def test(dataloader, model, loss_fn):\n",
    "    size = len(dataloader.dataset)\n",
    "    num_batches = len(dataloader)\n",
    "    model.eval()\n",
    "    test_loss, correct = 0, 0\n",
    "    with torch.no_grad():\n",
    "        for X, y in dataloader:\n",
    "            X, y = X.to(device), y.to(device)\n",
    "            pred = model(X)\n",
    "            test_loss += loss_fn(pred, y).item()\n",
    "            correct += (pred.argmax(1) == y).type(torch.float).sum().item()\n",
    "    test_loss /= num_batches\n",
    "    correct /= size\n",
    "    print(f\"Test Error: \\n Accuracy: {(100 * correct):>0.1f}%, Avg loss: {test_loss:>8f} \\n\")"
   ],
   "id": "8e8a8a695275c754",
   "outputs": [],
   "execution_count": 7
  },
  {
   "metadata": {
    "ExecuteTime": {
     "end_time": "2024-07-15T07:25:28.106019Z",
     "start_time": "2024-07-15T07:24:13.897081Z"
    }
   },
   "cell_type": "code",
   "source": [
    "# 训练过程会进行多次迭代（epoch）。\n",
    "# 在每个时期，模型都会学习参数以做出更好的预测。\n",
    "# 我们打印每个时期模型的准确性和损失；我们希望看到每个 epoch 的准确率都会提高，损失也会减少。\n",
    "epochs = 5\n",
    "for t in range(epochs):\n",
    "    print(f\"Epoch {t + 1}\\n-------------------------------\")\n",
    "    train(train_dataloader, model, loss_fn, optimizer)\n",
    "    test(test_dataloader, model, loss_fn)\n",
    "print(\"Done!\")"
   ],
   "id": "2dd1b1185abe53c6",
   "outputs": [
    {
     "name": "stdout",
     "output_type": "stream",
     "text": [
      "Epoch 1\n",
      "-------------------------------\n",
      "loss: 2.297072  [   64/60000]\n",
      "loss: 2.283575  [ 6464/60000]\n",
      "loss: 2.267705  [12864/60000]\n",
      "loss: 2.261562  [19264/60000]\n",
      "loss: 2.252863  [25664/60000]\n",
      "loss: 2.224608  [32064/60000]\n",
      "loss: 2.226368  [38464/60000]\n",
      "loss: 2.197275  [44864/60000]\n",
      "loss: 2.187764  [51264/60000]\n",
      "loss: 2.168748  [57664/60000]\n",
      "Test Error: \n",
      " Accuracy: 49.7%, Avg loss: 2.155741 \n",
      "\n",
      "Epoch 2\n",
      "-------------------------------\n",
      "loss: 2.167019  [   64/60000]\n",
      "loss: 2.153379  [ 6464/60000]\n",
      "loss: 2.096991  [12864/60000]\n",
      "loss: 2.109651  [19264/60000]\n",
      "loss: 2.077110  [25664/60000]\n",
      "loss: 2.010962  [32064/60000]\n",
      "loss: 2.037788  [38464/60000]\n",
      "loss: 1.963984  [44864/60000]\n",
      "loss: 1.961153  [51264/60000]\n",
      "loss: 1.907285  [57664/60000]\n",
      "Test Error: \n",
      " Accuracy: 55.0%, Avg loss: 1.895162 \n",
      "\n",
      "Epoch 3\n",
      "-------------------------------\n",
      "loss: 1.924061  [   64/60000]\n",
      "loss: 1.898052  [ 6464/60000]\n",
      "loss: 1.780825  [12864/60000]\n",
      "loss: 1.822613  [19264/60000]\n",
      "loss: 1.731348  [25664/60000]\n",
      "loss: 1.667297  [32064/60000]\n",
      "loss: 1.696412  [38464/60000]\n",
      "loss: 1.597039  [44864/60000]\n",
      "loss: 1.621844  [51264/60000]\n",
      "loss: 1.527619  [57664/60000]\n",
      "Test Error: \n",
      " Accuracy: 61.7%, Avg loss: 1.532863 \n",
      "\n",
      "Epoch 4\n",
      "-------------------------------\n",
      "loss: 1.593219  [   64/60000]\n",
      "loss: 1.562028  [ 6464/60000]\n",
      "loss: 1.411103  [12864/60000]\n",
      "loss: 1.486326  [19264/60000]\n",
      "loss: 1.382654  [25664/60000]\n",
      "loss: 1.355452  [32064/60000]\n",
      "loss: 1.378546  [38464/60000]\n",
      "loss: 1.301702  [44864/60000]\n",
      "loss: 1.339949  [51264/60000]\n",
      "loss: 1.244869  [57664/60000]\n",
      "Test Error: \n",
      " Accuracy: 63.9%, Avg loss: 1.262985 \n",
      "\n",
      "Epoch 5\n",
      "-------------------------------\n",
      "loss: 1.333462  [   64/60000]\n",
      "loss: 1.317601  [ 6464/60000]\n",
      "loss: 1.154154  [12864/60000]\n",
      "loss: 1.259382  [19264/60000]\n",
      "loss: 1.152623  [25664/60000]\n",
      "loss: 1.152586  [32064/60000]\n",
      "loss: 1.177086  [38464/60000]\n",
      "loss: 1.116006  [44864/60000]\n",
      "loss: 1.158007  [51264/60000]\n",
      "loss: 1.076612  [57664/60000]\n",
      "Test Error: \n",
      " Accuracy: 65.1%, Avg loss: 1.091977 \n",
      "\n",
      "Done!\n"
     ]
    }
   ],
   "execution_count": 8
  },
  {
   "metadata": {},
   "cell_type": "markdown",
   "source": [
    "## 4、保存模型\n",
    "- 保存模型的常见方法是序列化内部状态字典（包含模型参数）。"
   ],
   "id": "cedb1a4052ada0c"
  },
  {
   "metadata": {
    "ExecuteTime": {
     "end_time": "2024-07-15T07:25:44.032629Z",
     "start_time": "2024-07-15T07:25:43.993303Z"
    }
   },
   "cell_type": "code",
   "source": [
    "torch.save(model.state_dict(), \"model.pth\")\n",
    "print(\"Saved PyTorch Model State to model.pth\")"
   ],
   "id": "673e55e3d39d453",
   "outputs": [
    {
     "name": "stdout",
     "output_type": "stream",
     "text": [
      "Saved PyTorch Model State to model.pth\n"
     ]
    }
   ],
   "execution_count": 9
  },
  {
   "metadata": {},
   "cell_type": "markdown",
   "source": [
    "## 5、加载模型\n",
    "- 加载模型的过程包括重新创建模型结构并将状态字典加载到其中。"
   ],
   "id": "4df00812c10941e7"
  },
  {
   "metadata": {
    "ExecuteTime": {
     "end_time": "2024-07-15T07:27:26.960241Z",
     "start_time": "2024-07-15T07:27:26.907684Z"
    }
   },
   "cell_type": "code",
   "source": [
    "model = NeuralNetwork().to(device)\n",
    "model.load_state_dict(torch.load(\"model.pth\"))"
   ],
   "id": "d394895416a1026",
   "outputs": [
    {
     "data": {
      "text/plain": [
       "<All keys matched successfully>"
      ]
     },
     "execution_count": 10,
     "metadata": {},
     "output_type": "execute_result"
    }
   ],
   "execution_count": 10
  },
  {
   "metadata": {},
   "cell_type": "markdown",
   "source": "## 6、使用模型",
   "id": "bd4e0e5e3e6923ea"
  },
  {
   "metadata": {
    "ExecuteTime": {
     "end_time": "2024-07-15T07:29:08.214166Z",
     "start_time": "2024-07-15T07:29:08.147128Z"
    }
   },
   "cell_type": "code",
   "source": [
    "classes = [\n",
    "    \"T-shirt/top\",\n",
    "    \"Trouser\",\n",
    "    \"Pullover\",\n",
    "    \"Dress\",\n",
    "    \"Coat\",\n",
    "    \"Sandal\",\n",
    "    \"Shirt\",\n",
    "    \"Sneaker\",\n",
    "    \"Bag\",\n",
    "    \"Ankle boot\",\n",
    "]\n",
    "\n",
    "model.eval()\n",
    "x, y = test_data[0][0], test_data[0][1]\n",
    "with torch.no_grad():\n",
    "    x = x.to(device)\n",
    "    pred = model(x)\n",
    "    predicted, actual = classes[pred[0].argmax(0)], classes[y]\n",
    "    print(f'Predicted: \"{predicted}\", Actual: \"{actual}\"')"
   ],
   "id": "69af4f2549c6d08f",
   "outputs": [
    {
     "name": "stdout",
     "output_type": "stream",
     "text": [
      "Predicted: \"Ankle boot\", Actual: \"Ankle boot\"\n"
     ]
    }
   ],
   "execution_count": 13
  },
  {
   "metadata": {},
   "cell_type": "code",
   "outputs": [],
   "execution_count": null,
   "source": "# 上面就是使用训练一个属于自己的模型过程，无论多复杂的模型，步骤基本都一样。",
   "id": "36243ebc7898d4db"
  }
 ],
 "metadata": {
  "kernelspec": {
   "display_name": "Python 3",
   "language": "python",
   "name": "python3"
  },
  "language_info": {
   "codemirror_mode": {
    "name": "ipython",
    "version": 2
   },
   "file_extension": ".py",
   "mimetype": "text/x-python",
   "name": "python",
   "nbconvert_exporter": "python",
   "pygments_lexer": "ipython2",
   "version": "2.7.6"
  }
 },
 "nbformat": 4,
 "nbformat_minor": 5
}
