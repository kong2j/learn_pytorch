{
 "cells": [
  {
   "metadata": {},
   "cell_type": "markdown",
   "source": [
    "# 一、数据转换\n",
    "- 数据并不总是以训练机器学习算法所需的最终处理形式出现。\n",
    "- 我们使用转换来对数据执行一些操作并使其适合训练。\n",
    "- 所有 TorchVision 数据集都有两个参数 \n",
    "    - 用于修改特征的 transform 和用于修改标签的 target_transform \n",
    "    - 接受包含转换逻辑的可调用对象。 \n",
    "- torchvision.transforms 模块提供了几种开箱即用的常用转换。\n",
    "- FashionMNIST特征采用PIL图像格式，标签为整数\n",
    "- 对于训练，我们需要作为归一化张量的特征，以及作为单热编码张量的标签。\n",
    "- 为了进行这些转换，我们使用 ToTensor 和 Lambda。"
   ],
   "id": "51abac7a9883555c"
  },
  {
   "metadata": {
    "ExecuteTime": {
     "end_time": "2024-07-15T07:49:56.493112Z",
     "start_time": "2024-07-15T07:49:52.655801Z"
    }
   },
   "cell_type": "code",
   "source": [
    "import torch\n",
    "from torchvision import datasets\n",
    "from torchvision.transforms import ToTensor, Lambda\n",
    "\n",
    "ds = datasets.FashionMNIST(\n",
    "    root=\"data\",\n",
    "    train=True,\n",
    "    download=True,\n",
    "    transform=ToTensor(),\n",
    "    target_transform=Lambda(lambda y: torch.zeros(10, dtype=torch.float).scatter_(0, torch.tensor(y), value=1))\n",
    ")"
   ],
   "id": "ac434fddb9b9f061",
   "outputs": [],
   "execution_count": 1
  },
  {
   "metadata": {
    "ExecuteTime": {
     "end_time": "2024-07-15T07:50:33.055825Z",
     "start_time": "2024-07-15T07:50:33.046179Z"
    }
   },
   "cell_type": "code",
   "source": [
    "target_transform = Lambda(lambda y: torch.zeros(\n",
    "    10, dtype=torch.float).scatter_(dim=0, index=torch.tensor(y), value=1))"
   ],
   "id": "bd678a2affb31b9b",
   "outputs": [],
   "execution_count": 2
  },
  {
   "metadata": {
    "ExecuteTime": {
     "end_time": "2024-07-15T07:50:36.510309Z",
     "start_time": "2024-07-15T07:50:36.497535Z"
    }
   },
   "cell_type": "code",
   "source": "target_transform",
   "id": "7ee1447d133e7c3b",
   "outputs": [
    {
     "data": {
      "text/plain": [
       "Lambda()"
      ]
     },
     "execution_count": 3,
     "metadata": {},
     "output_type": "execute_result"
    }
   ],
   "execution_count": 3
  }
 ],
 "metadata": {
  "kernelspec": {
   "display_name": "Python 3",
   "language": "python",
   "name": "python3"
  },
  "language_info": {
   "codemirror_mode": {
    "name": "ipython",
    "version": 2
   },
   "file_extension": ".py",
   "mimetype": "text/x-python",
   "name": "python",
   "nbconvert_exporter": "python",
   "pygments_lexer": "ipython2",
   "version": "2.7.6"
  }
 },
 "nbformat": 4,
 "nbformat_minor": 5
}
