{
 "cells": [
  {
   "metadata": {},
   "cell_type": "markdown",
   "source": "# 介绍创建张量的方式",
   "id": "6f913dea33f98a8e"
  },
  {
   "metadata": {
    "ExecuteTime": {
     "end_time": "2024-07-16T02:44:29.903909Z",
     "start_time": "2024-07-16T02:44:28.452101Z"
    }
   },
   "cell_type": "code",
   "source": "import torch",
   "id": "f39984a8c013bd45",
   "outputs": [],
   "execution_count": 1
  },
  {
   "metadata": {
    "ExecuteTime": {
     "end_time": "2024-07-16T02:44:30.864521Z",
     "start_time": "2024-07-16T02:44:30.853452Z"
    }
   },
   "cell_type": "code",
   "source": [
    "z = torch.zeros(5, 3)\n",
    "print(z)\n",
    "print(z.dtype)"
   ],
   "id": "45a921d79f04c501",
   "outputs": [
    {
     "name": "stdout",
     "output_type": "stream",
     "text": [
      "tensor([[0., 0., 0.],\n",
      "        [0., 0., 0.],\n",
      "        [0., 0., 0.],\n",
      "        [0., 0., 0.],\n",
      "        [0., 0., 0.]])\n",
      "torch.float32\n"
     ]
    }
   ],
   "execution_count": 2
  },
  {
   "metadata": {
    "ExecuteTime": {
     "end_time": "2024-07-16T02:45:01.373190Z",
     "start_time": "2024-07-16T02:45:01.366129Z"
    }
   },
   "cell_type": "code",
   "source": [
    "i = torch.ones((5, 3), dtype=torch.int16)\n",
    "print(i)"
   ],
   "id": "22ff69ee98ea4f1e",
   "outputs": [
    {
     "name": "stdout",
     "output_type": "stream",
     "text": [
      "tensor([[1, 1, 1],\n",
      "        [1, 1, 1],\n",
      "        [1, 1, 1],\n",
      "        [1, 1, 1],\n",
      "        [1, 1, 1]], dtype=torch.int16)\n"
     ]
    }
   ],
   "execution_count": 3
  },
  {
   "metadata": {},
   "cell_type": "code",
   "outputs": [],
   "execution_count": null,
   "source": "# 随机初始化学习权重是很常见的，通常使用 PRNG 的特定种子来实现结果的可重复性：",
   "id": "7cbce7011c916ad5"
  },
  {
   "metadata": {
    "ExecuteTime": {
     "end_time": "2024-07-16T02:45:42.999594Z",
     "start_time": "2024-07-16T02:45:42.969892Z"
    }
   },
   "cell_type": "code",
   "source": [
    "torch.manual_seed(1729)\n",
    "r1 = torch.rand(2, 2)\n",
    "print('A random tensor:')\n",
    "print(r1)\n",
    "\n",
    "r2 = torch.rand(2, 2)\n",
    "print('\\nA different random tensor:')\n",
    "print(r2)  # new values\n",
    "\n",
    "torch.manual_seed(1729)\n",
    "r3 = torch.rand(2, 2)\n",
    "print('\\nShould match r1:')\n",
    "print(r3)  # repeats values of r1 because of re-seed"
   ],
   "id": "577fbc025b2af21a",
   "outputs": [
    {
     "name": "stdout",
     "output_type": "stream",
     "text": [
      "A random tensor:\n",
      "tensor([[0.3126, 0.3791],\n",
      "        [0.3087, 0.0736]])\n",
      "\n",
      "A different random tensor:\n",
      "tensor([[0.4216, 0.0691],\n",
      "        [0.2332, 0.4047]])\n",
      "\n",
      "Should match r1:\n",
      "tensor([[0.3126, 0.3791],\n",
      "        [0.3087, 0.0736]])\n"
     ]
    }
   ],
   "execution_count": 4
  },
  {
   "metadata": {
    "ExecuteTime": {
     "end_time": "2024-07-16T02:47:11.136538Z",
     "start_time": "2024-07-16T02:47:11.115924Z"
    }
   },
   "cell_type": "code",
   "source": [
    "# PyTorch 张量直观地执行算术运算。相似形状的张量可以相加、相乘等。标量的运算分布在张量上：\n",
    "ones = torch.ones(2, 3)\n",
    "print(ones)\n",
    "\n",
    "twos = torch.ones(2, 3) * 2  # every element is multiplied by 2\n",
    "print(twos)\n",
    "\n",
    "threes = ones + twos  # addition allowed because shapes are similar\n",
    "print(threes)  # tensors are added element-wise\n",
    "print(threes.shape)  # this has the same dimensions as input tensors\n",
    "\n",
    "r1 = torch.rand(2, 3)\n",
    "r2 = torch.rand(3, 2)\n",
    "# uncomment this line to get a runtime error\n",
    "# r3 = r1 + r2"
   ],
   "id": "f6d49111b8256514",
   "outputs": [
    {
     "name": "stdout",
     "output_type": "stream",
     "text": [
      "tensor([[1., 1., 1.],\n",
      "        [1., 1., 1.]])\n",
      "tensor([[2., 2., 2.],\n",
      "        [2., 2., 2.]])\n",
      "tensor([[3., 3., 3.],\n",
      "        [3., 3., 3.]])\n",
      "torch.Size([2, 3])\n"
     ]
    }
   ],
   "execution_count": 7
  },
  {
   "metadata": {
    "ExecuteTime": {
     "end_time": "2024-07-16T02:47:38.275439Z",
     "start_time": "2024-07-16T02:47:38.203027Z"
    }
   },
   "cell_type": "code",
   "source": [
    "# 以下是可用数学运算的一小部分示例：\n",
    "r = (torch.rand(2, 2) - 0.5) * 2  # values between -1 and 1\n",
    "print('A random matrix, r:')\n",
    "print(r)\n",
    "\n",
    "# Common mathematical operations are supported:\n",
    "print('\\nAbsolute value of r:')\n",
    "print(torch.abs(r))\n",
    "\n",
    "# ...as are trigonometric functions:\n",
    "print('\\nInverse sine of r:')\n",
    "print(torch.asin(r))\n",
    "\n",
    "# ...and linear algebra operations like determinant and singular value decomposition\n",
    "print('\\nDeterminant of r:')\n",
    "print(torch.det(r))\n",
    "print('\\nSingular value decomposition of r:')\n",
    "print(torch.svd(r))\n",
    "\n",
    "# ...and statistical and aggregate operations:\n",
    "print('\\nAverage and standard deviation of r:')\n",
    "print(torch.std_mean(r))\n",
    "print('\\nMaximum value of r:')\n",
    "print(torch.max(r))"
   ],
   "id": "34f4047a337c6415",
   "outputs": [
    {
     "name": "stdout",
     "output_type": "stream",
     "text": [
      "A random matrix, r:\n",
      "tensor([[ 0.7312,  0.0413],\n",
      "        [ 0.3730, -0.2772]])\n",
      "\n",
      "Absolute value of r:\n",
      "tensor([[0.7312, 0.0413],\n",
      "        [0.3730, 0.2772]])\n",
      "\n",
      "Inverse sine of r:\n",
      "tensor([[ 0.8201,  0.0413],\n",
      "        [ 0.3822, -0.2809]])\n",
      "\n",
      "Determinant of r:\n",
      "tensor(-0.2181)\n",
      "\n",
      "Singular value decomposition of r:\n",
      "torch.return_types.svd(\n",
      "U=tensor([[-0.8726, -0.4885],\n",
      "        [-0.4885,  0.8726]]),\n",
      "S=tensor([0.8262, 0.2640]),\n",
      "V=tensor([[-0.9927, -0.1203],\n",
      "        [ 0.1203, -0.9927]]))\n",
      "\n",
      "Average and standard deviation of r:\n",
      "(tensor(0.4335), tensor(0.2171))\n",
      "\n",
      "Maximum value of r:\n",
      "tensor(0.7312)\n"
     ]
    }
   ],
   "execution_count": 8
  },
  {
   "metadata": {},
   "cell_type": "markdown",
   "source": "# 我们来谈谈如何在 PyTorch 中表达模型",
   "id": "7ae44dc21e3f2878"
  },
  {
   "metadata": {
    "ExecuteTime": {
     "end_time": "2024-07-16T02:50:03.257825Z",
     "start_time": "2024-07-16T02:50:03.251561Z"
    }
   },
   "cell_type": "code",
   "source": [
    "import torch  # for all things PyTorch\n",
    "import torch.nn as nn  # for torch.nn.Module, the parent object for PyTorch models\n",
    "import torch.nn.functional as F  # for the activation function"
   ],
   "id": "8993ee337148fea3",
   "outputs": [],
   "execution_count": 9
  },
  {
   "metadata": {
    "ExecuteTime": {
     "end_time": "2024-07-16T03:02:25.265620Z",
     "start_time": "2024-07-16T03:02:25.255601Z"
    }
   },
   "cell_type": "code",
   "source": [
    "class LeNet(nn.Module):\n",
    "\n",
    "    def __init__(self):\n",
    "        # 调用父类初始化方法\n",
    "        super(LeNet, self).__init__()\n",
    "\n",
    "        # 定义第一个卷积层，输入通道数为1（灰度图像），输出通道数为6，卷积核大小为5x5\n",
    "        self.conv1 = nn.Conv2d(1, 6, 5)\n",
    "\n",
    "        # 定义第二个卷积层，输入通道数为6（来自第一层的输出），输出通道数为16，卷积核大小为5x5\n",
    "        self.conv2 = nn.Conv2d(6, 16, 5)\n",
    "\n",
    "        # 全连接层，输入大小为16*5*5（来自卷积层的输出），输出大小为120\n",
    "        self.fc1 = nn.Linear(16 * 5 * 5, 120)\n",
    "\n",
    "        # 第二个全连接层，输入大小为120，输出大小为84\n",
    "        self.fc2 = nn.Linear(120, 84)\n",
    "\n",
    "        # 输出层，输入大小为84，输出大小为10（分类数）\n",
    "        self.fc3 = nn.Linear(84, 10)\n",
    "\n",
    "    # 实际发生计算的方法\n",
    "    def forward(self, x):\n",
    "        # 第一个卷积层后接ReLU激活函数，然后进行2x2的最大池化操作\n",
    "        x = F.max_pool2d(F.relu(self.conv1(x)), (2, 2))\n",
    "\n",
    "        # 第二个卷积层后接ReLU激活函数，然后进行2x2的最大池化操作\n",
    "        # 注意：此处指定池化窗口大小为2，意味着在高和宽两个维度上都是2\n",
    "        x = F.max_pool2d(F.relu(self.conv2(x)), 2)\n",
    "\n",
    "        # 展平张量，从四维变为二维，准备输入全连接层\n",
    "        x = x.view(-1, self.num_flat_features(x))\n",
    "\n",
    "        # 通过第一个全连接层，接ReLU激活函数\n",
    "        x = F.relu(self.fc1(x))\n",
    "\n",
    "        # 通过第二个全连接层，接ReLU激活函数\n",
    "        x = F.relu(self.fc2(x))\n",
    "\n",
    "        # 通过输出层，得到最终的分类结果\n",
    "        x = self.fc3(x)\n",
    "\n",
    "        # 返回网络的输出\n",
    "        return x\n",
    "\n",
    "    def num_flat_features(self, x):\n",
    "        # 获取除批次大小以外的所有维度大小\n",
    "        size = x.size()[1:]\n",
    "\n",
    "        # 计算所有维度的乘积，得到展平后的特征数量\n",
    "        num_features = 1\n",
    "        for s in size:\n",
    "            num_features *= s\n",
    "\n",
    "        # 返回展平后的特征数量\n",
    "        return num_features"
   ],
   "id": "8ad5b83c1a2345bf",
   "outputs": [],
   "execution_count": 10
  },
  {
   "metadata": {
    "ExecuteTime": {
     "end_time": "2024-07-16T03:03:03.291774Z",
     "start_time": "2024-07-16T03:03:03.185711Z"
    }
   },
   "cell_type": "code",
   "source": [
    "net = LeNet()\n",
    "print(net)  # what does the object tell us about itself?\n",
    "\n",
    "input = torch.rand(1, 1, 32, 32)  # stand-in for a 32x32 black & white image\n",
    "print('\\nImage batch shape:')\n",
    "print(input.shape)\n",
    "\n",
    "output = net(input)  # we don't call forward() directly\n",
    "print('\\nRaw output:')\n",
    "print(output)\n",
    "print(output.shape)"
   ],
   "id": "d071d486735fd4d9",
   "outputs": [
    {
     "name": "stdout",
     "output_type": "stream",
     "text": [
      "LeNet(\n",
      "  (conv1): Conv2d(1, 6, kernel_size=(5, 5), stride=(1, 1))\n",
      "  (conv2): Conv2d(6, 16, kernel_size=(5, 5), stride=(1, 1))\n",
      "  (fc1): Linear(in_features=400, out_features=120, bias=True)\n",
      "  (fc2): Linear(in_features=120, out_features=84, bias=True)\n",
      "  (fc3): Linear(in_features=84, out_features=10, bias=True)\n",
      ")\n",
      "\n",
      "Image batch shape:\n",
      "torch.Size([1, 1, 32, 32])\n",
      "\n",
      "Raw output:\n",
      "tensor([[-0.0235,  0.0257, -0.0843, -0.0503,  0.0466, -0.0893,  0.0008,  0.1070,\n",
      "         -0.0372, -0.0209]], grad_fn=<AddmmBackward0>)\n",
      "torch.Size([1, 10])\n"
     ]
    }
   ],
   "execution_count": 11
  },
  {
   "metadata": {},
   "cell_type": "markdown",
   "source": "# 数据集和数据加载器",
   "id": "e7debd9b565df051"
  },
  {
   "metadata": {
    "ExecuteTime": {
     "end_time": "2024-07-16T03:06:34.664471Z",
     "start_time": "2024-07-16T03:06:33.132908Z"
    }
   },
   "cell_type": "code",
   "source": [
    "# 图像转换成张量\n",
    "#%matplotlib inline\n",
    "\n",
    "import torch\n",
    "import torchvision\n",
    "import torchvision.transforms as transforms\n",
    "\n",
    "transform = transforms.Compose(\n",
    "    [transforms.ToTensor(),\n",
    "     transforms.Normalize((0.4914, 0.4822, 0.4465), (0.2470, 0.2435, 0.2616))])"
   ],
   "id": "6126014d37729386",
   "outputs": [],
   "execution_count": 12
  },
  {
   "metadata": {
    "ExecuteTime": {
     "end_time": "2024-07-16T03:32:20.305349Z",
     "start_time": "2024-07-16T03:29:13.998646Z"
    }
   },
   "cell_type": "code",
   "source": [
    "trainset = torchvision.datasets.CIFAR10(root='./data', train=True,\n",
    "                                        download=True, transform=transform)"
   ],
   "id": "d47859303af6930e",
   "outputs": [
    {
     "name": "stdout",
     "output_type": "stream",
     "text": [
      "Downloading https://www.cs.toronto.edu/~kriz/cifar-10-python.tar.gz to ./data\\cifar-10-python.tar.gz\n"
     ]
    },
    {
     "name": "stderr",
     "output_type": "stream",
     "text": [
      "100%|██████████| 170498071/170498071 [02:58<00:00, 957352.71it/s] \n"
     ]
    },
    {
     "name": "stdout",
     "output_type": "stream",
     "text": [
      "Extracting ./data\\cifar-10-python.tar.gz to ./data\n"
     ]
    }
   ],
   "execution_count": 14
  },
  {
   "metadata": {
    "ExecuteTime": {
     "end_time": "2024-07-16T03:33:30.817776Z",
     "start_time": "2024-07-16T03:33:30.802569Z"
    }
   },
   "cell_type": "code",
   "source": [
    "trainloader = torch.utils.data.DataLoader(trainset, batch_size=4,\n",
    "                                          shuffle=True, num_workers=2)"
   ],
   "id": "8252af980ef623b",
   "outputs": [],
   "execution_count": 15
  },
  {
   "metadata": {
    "ExecuteTime": {
     "end_time": "2024-07-16T03:33:47.676445Z",
     "start_time": "2024-07-16T03:33:38.892939Z"
    }
   },
   "cell_type": "code",
   "source": [
    "import matplotlib.pyplot as plt\n",
    "import numpy as np\n",
    "\n",
    "classes = ('plane', 'car', 'bird', 'cat',\n",
    "           'deer', 'dog', 'frog', 'horse', 'ship', 'truck')\n",
    "\n",
    "\n",
    "def imshow(img):\n",
    "    img = img / 2 + 0.5  # unnormalize\n",
    "    npimg = img.numpy()\n",
    "    plt.imshow(np.transpose(npimg, (1, 2, 0)))\n",
    "\n",
    "\n",
    "# get some random training images\n",
    "dataiter = iter(trainloader)\n",
    "images, labels = next(dataiter)\n",
    "\n",
    "# show images\n",
    "imshow(torchvision.utils.make_grid(images))\n",
    "# print labels\n",
    "print(' '.join('%5s' % classes[labels[j]] for j in range(4)))"
   ],
   "id": "b1551547b105e5b5",
   "outputs": [
    {
     "name": "stderr",
     "output_type": "stream",
     "text": [
      "Clipping input data to the valid range for imshow with RGB data ([0..1] for floats or [0..255] for integers). Got range [-0.49473685..1.5632443].\n"
     ]
    },
    {
     "name": "stdout",
     "output_type": "stream",
     "text": [
      "  cat  frog   car   car\n"
     ]
    },
    {
     "data": {
      "text/plain": [
       "<Figure size 640x480 with 1 Axes>"
      ],
      "image/png": "[encoded data removed]"
     },
     "metadata": {},
     "output_type": "display_data"
    }
   ],
   "execution_count": 16
  },
  {
   "metadata": {
    "ExecuteTime": {
     "end_time": "2024-07-16T03:33:51.103838Z",
     "start_time": "2024-07-16T03:33:51.093804Z"
    }
   },
   "cell_type": "code",
   "source": [
    "#%matplotlib inline\n",
    "\n",
    "import torch\n",
    "import torch.nn as nn\n",
    "import torch.nn.functional as F\n",
    "import torch.optim as optim\n",
    "\n",
    "import torchvision\n",
    "import torchvision.transforms as transforms\n",
    "\n",
    "import matplotlib\n",
    "import matplotlib.pyplot as plt\n",
    "import numpy as np"
   ],
   "id": "ccae072e703b134e",
   "outputs": [],
   "execution_count": 17
  },
  {
   "metadata": {
    "ExecuteTime": {
     "end_time": "2024-07-16T03:33:56.237249Z",
     "start_time": "2024-07-16T03:33:54.223463Z"
    }
   },
   "cell_type": "code",
   "source": [
    "transform = transforms.Compose(\n",
    "    [transforms.ToTensor(),\n",
    "     transforms.Normalize((0.5, 0.5, 0.5), (0.5, 0.5, 0.5))])\n",
    "\n",
    "trainset = torchvision.datasets.CIFAR10(root='./data', train=True,\n",
    "                                        download=True, transform=transform)\n",
    "trainloader = torch.utils.data.DataLoader(trainset, batch_size=4,\n",
    "                                          shuffle=True, num_workers=2)\n",
    "\n",
    "testset = torchvision.datasets.CIFAR10(root='./data', train=False,\n",
    "                                       download=True, transform=transform)\n",
    "testloader = torch.utils.data.DataLoader(testset, batch_size=4,\n",
    "                                         shuffle=False, num_workers=2)\n",
    "\n",
    "classes = ('plane', 'car', 'bird', 'cat',\n",
    "           'deer', 'dog', 'frog', 'horse', 'ship', 'truck')"
   ],
   "id": "d9932708bab49257",
   "outputs": [
    {
     "name": "stdout",
     "output_type": "stream",
     "text": [
      "Files already downloaded and verified\n",
      "Files already downloaded and verified\n"
     ]
    }
   ],
   "execution_count": 18
  },
  {
   "metadata": {
    "ExecuteTime": {
     "end_time": "2024-07-16T03:34:11.437940Z",
     "start_time": "2024-07-16T03:34:01.759135Z"
    }
   },
   "cell_type": "code",
   "source": [
    "import matplotlib.pyplot as plt\n",
    "import numpy as np\n",
    "\n",
    "# functions to show an image\n",
    "\n",
    "def imshow(img):\n",
    "    img = img / 2 + 0.5  # unnormalize\n",
    "    npimg = img.numpy()\n",
    "    plt.imshow(np.transpose(npimg, (1, 2, 0)))\n",
    "\n",
    "\n",
    "# get some random training images\n",
    "dataiter = iter(trainloader)\n",
    "images, labels = next(dataiter)\n",
    "\n",
    "# show images\n",
    "imshow(torchvision.utils.make_grid(images))\n",
    "# print labels\n",
    "print(' '.join('%5s' % classes[labels[j]] for j in range(4)))"
   ],
   "id": "684403f825371b65",
   "outputs": [
    {
     "name": "stdout",
     "output_type": "stream",
     "text": [
      "  car   dog  ship plane\n"
     ]
    },
    {
     "data": {
      "text/plain": [
       "<Figure size 640x480 with 1 Axes>"
      ],
      "image/png": "[encoded data removed]"
     },
     "metadata": {},
     "output_type": "display_data"
    }
   ],
   "execution_count": 19
  },
  {
   "metadata": {
    "ExecuteTime": {
     "end_time": "2024-07-16T03:34:39.690272Z",
     "start_time": "2024-07-16T03:34:39.662438Z"
    }
   },
   "cell_type": "code",
   "source": [
    "class Net(nn.Module):\n",
    "    def __init__(self):\n",
    "        super(Net, self).__init__()\n",
    "        self.conv1 = nn.Conv2d(3, 6, 5)\n",
    "        self.pool = nn.MaxPool2d(2, 2)\n",
    "        self.conv2 = nn.Conv2d(6, 16, 5)\n",
    "        self.fc1 = nn.Linear(16 * 5 * 5, 120)\n",
    "        self.fc2 = nn.Linear(120, 84)\n",
    "        self.fc3 = nn.Linear(84, 10)\n",
    "\n",
    "    def forward(self, x):\n",
    "        x = self.pool(F.relu(self.conv1(x)))\n",
    "        x = self.pool(F.relu(self.conv2(x)))\n",
    "        x = x.view(-1, 16 * 5 * 5)\n",
    "        x = F.relu(self.fc1(x))\n",
    "        x = F.relu(self.fc2(x))\n",
    "        x = self.fc3(x)\n",
    "        return x\n",
    "\n",
    "\n",
    "net = Net()"
   ],
   "id": "64342e876b70c9a",
   "outputs": [],
   "execution_count": 20
  },
  {
   "metadata": {
    "ExecuteTime": {
     "end_time": "2024-07-16T03:34:51.551875Z",
     "start_time": "2024-07-16T03:34:51.543098Z"
    }
   },
   "cell_type": "code",
   "source": [
    "criterion = nn.CrossEntropyLoss()\n",
    "optimizer = optim.SGD(net.parameters(), lr=0.001, momentum=0.9)"
   ],
   "id": "bbd5ec758d304725",
   "outputs": [],
   "execution_count": 21
  },
  {
   "metadata": {
    "ExecuteTime": {
     "end_time": "2024-07-16T03:37:44.008332Z",
     "start_time": "2024-07-16T03:35:30.924939Z"
    }
   },
   "cell_type": "code",
   "source": [
    "for epoch in range(2):  # loop over the dataset multiple times\n",
    "\n",
    "    running_loss = 0.0\n",
    "    for i, data in enumerate(trainloader, 0):\n",
    "        # get the inputs\n",
    "        inputs, labels = data\n",
    "\n",
    "        # zero the parameter gradients\n",
    "        optimizer.zero_grad()\n",
    "\n",
    "        # forward + backward + optimize\n",
    "        outputs = net(inputs)\n",
    "        loss = criterion(outputs, labels)\n",
    "        loss.backward()\n",
    "        optimizer.step()\n",
    "\n",
    "        # print statistics\n",
    "        running_loss += loss.item()\n",
    "        if i % 2000 == 1999:    # print every 2000 mini-batches\n",
    "            print('[%d, %5d] loss: %.3f' %\n",
    "                  (epoch + 1, i + 1, running_loss / 2000))\n",
    "            running_loss = 0.0\n",
    "\n",
    "print('Finished Training')"
   ],
   "id": "731542206ed799d",
   "outputs": [
    {
     "name": "stdout",
     "output_type": "stream",
     "text": [
      "[1,  2000] loss: 2.266\n",
      "[1,  4000] loss: 1.911\n",
      "[1,  6000] loss: 1.701\n",
      "[1,  8000] loss: 1.579\n",
      "[1, 10000] loss: 1.525\n",
      "[1, 12000] loss: 1.462\n",
      "[2,  2000] loss: 1.437\n",
      "[2,  4000] loss: 1.378\n",
      "[2,  6000] loss: 1.321\n",
      "[2,  8000] loss: 1.337\n",
      "[2, 10000] loss: 1.305\n",
      "[2, 12000] loss: 1.283\n",
      "Finished Training\n"
     ]
    }
   ],
   "execution_count": 22
  },
  {
   "metadata": {
    "ExecuteTime": {
     "end_time": "2024-07-16T03:38:02.295872Z",
     "start_time": "2024-07-16T03:37:47.170689Z"
    }
   },
   "cell_type": "code",
   "source": [
    "correct = 0\n",
    "total = 0\n",
    "with torch.no_grad():\n",
    "    for data in testloader:\n",
    "        images, labels = data\n",
    "        outputs = net(images)\n",
    "        _, predicted = torch.max(outputs.data, 1)\n",
    "        total += labels.size(0)\n",
    "        correct += (predicted == labels).sum().item()\n",
    "\n",
    "print('Accuracy of the network on the 10000 test images: %d %%' % (\n",
    "    100 * correct / total))"
   ],
   "id": "d8dcb2b12bf49cc0",
   "outputs": [
    {
     "name": "stdout",
     "output_type": "stream",
     "text": [
      "Accuracy of the network on the 10000 test images: 55 %\n"
     ]
    }
   ],
   "execution_count": 23
  }
 ],
 "metadata": {
  "kernelspec": {
   "display_name": "Python 3",
   "language": "python",
   "name": "python3"
  },
  "language_info": {
   "codemirror_mode": {
    "name": "ipython",
    "version": 2
   },
   "file_extension": ".py",
   "mimetype": "text/x-python",
   "name": "python",
   "nbconvert_exporter": "python",
   "pygments_lexer": "ipython2",
   "version": "2.7.6"
  }
 },
 "nbformat": 4,
 "nbformat_minor": 5
}
