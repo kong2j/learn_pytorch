{
 "cells": [
  {
   "metadata": {},
   "cell_type": "markdown",
   "source": [
    "# 使用 torch.autograd 自动微分\n",
    "- 在训练神经网络时，最常用的算法是反向传播。在该算法中，根据损失函数相对于给定参数的梯度来调整参数（模型权重）。\n",
    "- 为了计算这些梯度，PyTorch 有一个内置的微分引擎，称为 torch.autograd。它支持任何计算图的梯度自动计算。\n",
    "- 考虑最简单的一层神经网络，具有输入 x、参数 w 和 b 以及一些损失函数。它可以通过以下方式在 PyTorch 中定义："
   ],
   "id": "9eab69804b1ebaaf"
  },
  {
   "metadata": {
    "ExecuteTime": {
     "end_time": "2024-07-16T00:42:15.277366Z",
     "start_time": "2024-07-16T00:42:15.257430Z"
    }
   },
   "cell_type": "code",
   "source": [
    "import torch\n",
    "\n",
    "x = torch.ones(5)  # input tensor\n",
    "y = torch.zeros(3)  # expected output\n",
    "w = torch.randn(5, 3, requires_grad=True) # 随机初始化权重\n",
    "print(w)\n",
    "b = torch.randn(3, requires_grad=True)\n",
    "z = torch.matmul(x, w)+b # 预测值z=wx+b\n",
    "loss = torch.nn.functional.binary_cross_entropy_with_logits(z, y) # 计算损失\n",
    "loss"
   ],
   "id": "5a207c9ccdcc6368",
   "outputs": [
    {
     "name": "stdout",
     "output_type": "stream",
     "text": [
      "tensor([[ 0.1947,  0.8704, -0.3393],\n",
      "        [ 1.9837,  0.6916,  0.2246],\n",
      "        [-0.8458,  0.7288, -0.0619],\n",
      "        [-2.4849, -1.1634, -0.9581],\n",
      "        [-1.2200, -0.9672, -1.1967]], requires_grad=True)\n"
     ]
    },
    {
     "data": {
      "text/plain": [
       "tensor(0.3250, grad_fn=<BinaryCrossEntropyWithLogitsBackward0>)"
      ]
     },
     "execution_count": 4,
     "metadata": {},
     "output_type": "execute_result"
    }
   ],
   "execution_count": 4
  },
  {
   "metadata": {
    "ExecuteTime": {
     "end_time": "2024-07-16T00:41:49.543090Z",
     "start_time": "2024-07-16T00:41:49.532739Z"
    }
   },
   "cell_type": "code",
   "source": [
    "# 在这个网络中，w和b是我们需要优化的参数。\n",
    "# 因此，我们需要能够计算损失函数相对于这些变量的梯度。\n",
    "# 为此，我们设置这些张量的 require_grad 属性。\n",
    "# 您可以在创建张量时设置requires_grad的值，或者稍后使用x.requires_grad_(True)方法设置。\n",
    "# 我们应用于张量来构造计算图的函数实际上是类 Function 的对象。\n",
    "# 该对象知道如何向前计算函数，以及如何在向后传播步骤中计算其导数。\n",
    "# 对反向传播函数的引用存储在张量的 grad_fn 属性中。\n",
    "print(f\"Gradient function for z = {z.grad_fn}\")\n",
    "print(f\"Gradient function for loss = {loss.grad_fn}\")"
   ],
   "id": "7abf491e031e89cf",
   "outputs": [
    {
     "name": "stdout",
     "output_type": "stream",
     "text": [
      "Gradient function for z = <AddBackward0 object at 0x00000226EA4C38B0>\n",
      "Gradient function for loss = <BinaryCrossEntropyWithLogitsBackward0 object at 0x00000226D276BB80>\n"
     ]
    }
   ],
   "execution_count": 2
  },
  {
   "metadata": {},
   "cell_type": "markdown",
   "source": "## 1、计算梯度",
   "id": "77062720211888e8"
  },
  {
   "metadata": {
    "ExecuteTime": {
     "end_time": "2024-07-16T00:41:53.313249Z",
     "start_time": "2024-07-16T00:41:52.285144Z"
    }
   },
   "cell_type": "code",
   "source": [
    "# 反向传播 优化权重\n",
    "loss.backward()\n",
    "print(w.grad)\n",
    "print(b.grad)\n",
    "# https://pytorch.org/tutorials/beginner/basics/autogradqs_tutorial.html"
   ],
   "id": "9fa857bdc5c4008e",
   "outputs": [
    {
     "name": "stdout",
     "output_type": "stream",
     "text": [
      "tensor([[0.3175, 0.1440, 0.0126],\n",
      "        [0.3175, 0.1440, 0.0126],\n",
      "        [0.3175, 0.1440, 0.0126],\n",
      "        [0.3175, 0.1440, 0.0126],\n",
      "        [0.3175, 0.1440, 0.0126]])\n",
      "tensor([0.3175, 0.1440, 0.0126])\n"
     ]
    }
   ],
   "execution_count": 3
  },
  {
   "metadata": {},
   "cell_type": "markdown",
   "source": [
    "## 2、禁用反向传播\n",
    "- 默认情况下，所有 require_grad=True 的张量都会跟踪其计算历史并支持梯度计算。\n",
    "- 然而，在某些情况下我们不需要这样做，例如，当我们训练了模型并且只想将其应用于某些输入数据时，即我们只想通过网络进行前向计算。\n",
    "- 我们可以通过用 torch.no_grad() 块包围我们的计算代码来停止跟踪计算："
   ],
   "id": "fbafef85921c7ef9"
  },
  {
   "metadata": {
    "ExecuteTime": {
     "end_time": "2024-07-16T01:13:01.431840Z",
     "start_time": "2024-07-16T01:13:01.418975Z"
    }
   },
   "cell_type": "code",
   "source": [
    "z = torch.matmul(x, w)+b\n",
    "print(z.requires_grad)\n",
    "\n",
    "with torch.no_grad():\n",
    "    z = torch.matmul(x, w)+b\n",
    "print(z.requires_grad)"
   ],
   "id": "ed897d73ccd070f4",
   "outputs": [
    {
     "name": "stdout",
     "output_type": "stream",
     "text": [
      "True\n",
      "False\n"
     ]
    }
   ],
   "execution_count": 5
  },
  {
   "metadata": {
    "ExecuteTime": {
     "end_time": "2024-07-16T01:13:52.328385Z",
     "start_time": "2024-07-16T01:13:52.302120Z"
    }
   },
   "cell_type": "code",
   "source": [
    "# 实现相同结果的另一种方法是在张量上使用 detach() 方法：\n",
    "z = torch.matmul(x, w)+b\n",
    "z_det = z.detach()\n",
    "print(z_det.requires_grad)"
   ],
   "id": "bf2ad4cce4468fc",
   "outputs": [
    {
     "name": "stdout",
     "output_type": "stream",
     "text": [
      "False\n"
     ]
    }
   ],
   "execution_count": 6
  },
  {
   "metadata": {},
   "cell_type": "markdown",
   "source": "## 3、雅可比矩阵和雅可比乘积",
   "id": "2aa369e777d775d6"
  },
  {
   "metadata": {
    "ExecuteTime": {
     "end_time": "2024-07-16T01:22:07.623191Z",
     "start_time": "2024-07-16T01:22:06.697683Z"
    }
   },
   "cell_type": "code",
   "source": [
    "inp = torch.eye(4, 5, requires_grad=True)\n",
    "out = (inp+1).pow(2).t()\n",
    "out.backward(torch.ones_like(out), retain_graph=True)\n",
    "print(f\"First call\\n{inp.grad}\")\n",
    "out.backward(torch.ones_like(out), retain_graph=True)\n",
    "print(f\"\\nSecond call\\n{inp.grad}\")\n",
    "inp.grad.zero_()\n",
    "out.backward(torch.ones_like(out), retain_graph=True)\n",
    "print(f\"\\nCall after zeroing gradients\\n{inp.grad}\")"
   ],
   "id": "2957f4fbd4ec52f4",
   "outputs": [
    {
     "name": "stdout",
     "output_type": "stream",
     "text": [
      "First call\n",
      "tensor([[4., 2., 2., 2., 2.],\n",
      "        [2., 4., 2., 2., 2.],\n",
      "        [2., 2., 4., 2., 2.],\n",
      "        [2., 2., 2., 4., 2.]])\n",
      "\n",
      "Second call\n",
      "tensor([[8., 4., 4., 4., 4.],\n",
      "        [4., 8., 4., 4., 4.],\n",
      "        [4., 4., 8., 4., 4.],\n",
      "        [4., 4., 4., 8., 4.]])\n",
      "\n",
      "Call after zeroing gradients\n",
      "tensor([[4., 2., 2., 2., 2.],\n",
      "        [2., 4., 2., 2., 2.],\n",
      "        [2., 2., 4., 2., 2.],\n",
      "        [2., 2., 2., 4., 2.]])\n"
     ]
    }
   ],
   "execution_count": 7
  }
 ],
 "metadata": {
  "kernelspec": {
   "display_name": "Python 3",
   "language": "python",
   "name": "python3"
  },
  "language_info": {
   "codemirror_mode": {
    "name": "ipython",
    "version": 2
   },
   "file_extension": ".py",
   "mimetype": "text/x-python",
   "name": "python",
   "nbconvert_exporter": "python",
   "pygments_lexer": "ipython2",
   "version": "2.7.6"
  }
 },
 "nbformat": 4,
 "nbformat_minor": 5
}
